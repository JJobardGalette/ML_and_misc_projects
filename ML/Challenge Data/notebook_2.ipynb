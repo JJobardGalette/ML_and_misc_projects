{
 "cells": [
  {
   "cell_type": "markdown",
   "metadata": {},
   "source": [
    "## Introduction\n",
    "Notebook où je vais essayer de faire les choses plus propres. Première chose à faire : la stratégie puis la gestion des données puis enfin l'implémentation.\n"
   ]
  },
  {
   "cell_type": "markdown",
   "metadata": {},
   "source": [
    "# Stratégie #\n",
    "On va s'aider fortement du cours de Kaggle sur les time series. Comme l'analyse de périodicité n'a rien donné (a part sur les semaines mais ça on peut le OneHotEncoding), on va essayer de faire en deux temps : \n",
    "\n",
    "- regression tree et XGB brutal\n",
    "- Essai en mettant un lag de 12 jours\n",
    "\n",
    "Ce sont les premières idées qui me viennent à l'esprit, on verra pour la suite\n",
    "\n",
    "# Traitement des données #\n",
    "Si les données sont nombreuses, il n'y a que peu de catégories réelles. La première étape sera de stacker les données en fonction des stations, la deuxième de OOH les jours de la semaine pour tester un premier train. Cela semble raisonnable dans un premier temps"
   ]
  },
  {
   "cell_type": "code",
   "execution_count": 1,
   "metadata": {},
   "outputs": [],
   "source": [
    "#Bibliothèques\n",
    "import numpy as np\n",
    "import matplotlib.pyplot as plt\n",
    "import pandas as pd\n",
    "from xgboost import XGBRegressor\n",
    "from timeseries_utils import *\n",
    "\n",
    "X_intact = pd.read_csv('x_train.csv')\n",
    "y_intact = pd.read_csv('y_train.csv')\n"
   ]
  },
  {
   "cell_type": "markdown",
   "metadata": {},
   "source": [
    "On va commencer par stacker à l'aide de pandas les stations dans X et y. Pour cela il va falloir séparer les stations de y, ce que l'on va faire dans un premier temps. Ce qui peut être judicieux aussi, c'est de faire un ordinal encoder sur les jours de la semaine pour ne plus qu'à avoir à faire tourner le modèle"
   ]
  },
  {
   "cell_type": "code",
   "execution_count": 2,
   "metadata": {},
   "outputs": [],
   "source": [
    "#Separation du y\n",
    "y_sep = y_intact.copy()\n",
    "y_sep[['date', 'station']] = y_sep['index'].str.split('_', expand=True)\n"
   ]
  },
  {
   "cell_type": "code",
   "execution_count": 3,
   "metadata": {},
   "outputs": [
    {
     "data": {
      "text/html": [
       "<div>\n",
       "<style scoped>\n",
       "    .dataframe tbody tr th:only-of-type {\n",
       "        vertical-align: middle;\n",
       "    }\n",
       "\n",
       "    .dataframe tbody tr th {\n",
       "        vertical-align: top;\n",
       "    }\n",
       "\n",
       "    .dataframe thead tr th {\n",
       "        text-align: left;\n",
       "    }\n",
       "\n",
       "    .dataframe thead tr:last-of-type th {\n",
       "        text-align: right;\n",
       "    }\n",
       "</style>\n",
       "<table border=\"1\" class=\"dataframe\">\n",
       "  <thead>\n",
       "    <tr>\n",
       "      <th></th>\n",
       "      <th colspan=\"10\" halign=\"left\">job</th>\n",
       "      <th>...</th>\n",
       "      <th colspan=\"10\" halign=\"left\">aff</th>\n",
       "    </tr>\n",
       "    <tr>\n",
       "      <th>station</th>\n",
       "      <th>003</th>\n",
       "      <th>033</th>\n",
       "      <th>034</th>\n",
       "      <th>09U</th>\n",
       "      <th>0CM</th>\n",
       "      <th>0GU</th>\n",
       "      <th>0JU</th>\n",
       "      <th>0S9</th>\n",
       "      <th>0TR</th>\n",
       "      <th>0WC</th>\n",
       "      <th>...</th>\n",
       "      <th>YX9</th>\n",
       "      <th>Z1H</th>\n",
       "      <th>Z2T</th>\n",
       "      <th>Z4A</th>\n",
       "      <th>Z5T</th>\n",
       "      <th>Z76</th>\n",
       "      <th>ZII</th>\n",
       "      <th>ZIK</th>\n",
       "      <th>ZSR</th>\n",
       "      <th>ZXY</th>\n",
       "    </tr>\n",
       "    <tr>\n",
       "      <th>date</th>\n",
       "      <th></th>\n",
       "      <th></th>\n",
       "      <th></th>\n",
       "      <th></th>\n",
       "      <th></th>\n",
       "      <th></th>\n",
       "      <th></th>\n",
       "      <th></th>\n",
       "      <th></th>\n",
       "      <th></th>\n",
       "      <th></th>\n",
       "      <th></th>\n",
       "      <th></th>\n",
       "      <th></th>\n",
       "      <th></th>\n",
       "      <th></th>\n",
       "      <th></th>\n",
       "      <th></th>\n",
       "      <th></th>\n",
       "      <th></th>\n",
       "      <th></th>\n",
       "    </tr>\n",
       "  </thead>\n",
       "  <tbody>\n",
       "  </tbody>\n",
       "</table>\n",
       "<p>0 rows × 1756 columns</p>\n",
       "</div>"
      ],
      "text/plain": [
       "Empty DataFrame\n",
       "Columns: [(job, 003), (job, 033), (job, 034), (job, 09U), (job, 0CM), (job, 0GU), (job, 0JU), (job, 0S9), (job, 0TR), (job, 0WC), (job, 0Y9), (job, 0YY), (job, 0ZP), (job, 11W), (job, 12Q), (job, 182), (job, 18L), (job, 193), (job, 19G), (job, 1AA), (job, 1EB), (job, 1EJ), (job, 1EX), (job, 1I8), (job, 1J7), (job, 1PW), (job, 1TE), (job, 1TQ), (job, 1VL), (job, 214), (job, 222), (job, 23N), (job, 25G), (job, 26J), (job, 276), (job, 289), (job, 294), (job, 2AC), (job, 2EW), (job, 2P1), (job, 2PZ), (job, 2SG), (job, 2T1), (job, 2UV), (job, 2YA), (job, 30I), (job, 30R), (job, 34L), (job, 357), (job, 3KU), (job, 3NQ), (job, 3NS), (job, 3T2), (job, 3W6), (job, 3XF), (job, 3Y4), (job, 43B), (job, 45E), (job, 47F), (job, 488), (job, 48S), (job, 495), (job, 4AH), (job, 4CZ), (job, 4EG), (job, 4IM), (job, 4MO), (job, 4PO), (job, 4RW), (job, 4SH), (job, 4UY), (job, 4V8), (job, 4WI), (job, 4YU), (job, 52H), (job, 56P), (job, 56W), (job, 59A), (job, 5GK), (job, 5KB), (job, 5KJ), (job, 5MR), (job, 5PK), (job, 5S5), (job, 5SM), (job, 5U5), (job, 5WG), (job, 5ZC), (job, 651), (job, 6A9), (job, 6DU), (job, 6E0), (job, 6FB), (job, 6HE), (job, 6TL), (job, 6UW), (job, 6VM), (job, 6WR), (job, 700), (job, 72S), ...]\n",
       "Index: []\n",
       "\n",
       "[0 rows x 1756 columns]"
      ]
     },
     "execution_count": 3,
     "metadata": {},
     "output_type": "execute_result"
    }
   ],
   "source": [
    "from statsmodels.tsa.deterministic import DeterministicProcess\n",
    "\n",
    "\n",
    "#Stack des stations\n",
    "X_prepross= X_intact.copy()\n",
    "y_prepross = y_sep.copy()\n",
    "# X_stacked = X_stacked.set_index()\n",
    "# X_stacked[\"day\"] = X_stacked.index.dayofweek  # the x-axis (freq)\n",
    "# X_stacked[\"week\"] = X_stacked.index.week \n",
    "# dp=DeterministicProcess(index = X_stacked.index,constant=True,order=1,seasonal=True)\n",
    "# X_stacked = dp.in_sample()\n",
    "\n",
    "# a voir après le OH des semaines\n",
    "X_prepross['aff'] = y_prepross['y']\n",
    "\n",
    "X_prepross = X_prepross.set_index(['station','date']).sort_index()\n",
    "X_prepross = (X_prepross.groupby(['date','station'])\n",
    "              .mean()\n",
    "              .unstack('station'))\n",
    "\n",
    "\n",
    "\n",
    "y = X_prepross.loc[:,'aff'] \n",
    "# X = make_lags(y,lags=12).dropna()\n",
    "y = make_multistep_target(y,steps=365).dropna()\n",
    "y, X = y.align(X_prepross, join='inner', axis=0)\n",
    "\n",
    "X.head()\n"
   ]
  },
  {
   "cell_type": "markdown",
   "metadata": {},
   "source": [
    "On va maintenant encoder le nom des stations"
   ]
  },
  {
   "cell_type": "code",
   "execution_count": 4,
   "metadata": {},
   "outputs": [],
   "source": [
    "from sklearn.preprocessing import LabelEncoder\n",
    "le = LabelEncoder()\n",
    "\n",
    "X = (X\n",
    "    .stack('station')  # wide to long\n",
    "    .reset_index('station')  # convert index to column\n",
    "    .assign(station=lambda x: le.fit_transform(x.station))  # label encode\n",
    ")\n",
    "\n",
    "y = pd.DataFrame(y.stack('station'))  # wide to long\n",
    "\n"
   ]
  },
  {
   "cell_type": "code",
   "execution_count": 5,
   "metadata": {},
   "outputs": [
    {
     "data": {
      "text/html": [
       "<div>\n",
       "<style scoped>\n",
       "    .dataframe tbody tr th:only-of-type {\n",
       "        vertical-align: middle;\n",
       "    }\n",
       "\n",
       "    .dataframe tbody tr th {\n",
       "        vertical-align: top;\n",
       "    }\n",
       "\n",
       "    .dataframe thead th {\n",
       "        text-align: right;\n",
       "    }\n",
       "</style>\n",
       "<table border=\"1\" class=\"dataframe\">\n",
       "  <thead>\n",
       "    <tr style=\"text-align: right;\">\n",
       "      <th></th>\n",
       "      <th></th>\n",
       "      <th>y_step_1</th>\n",
       "      <th>y_step_2</th>\n",
       "      <th>y_step_3</th>\n",
       "      <th>y_step_4</th>\n",
       "      <th>y_step_5</th>\n",
       "      <th>y_step_6</th>\n",
       "      <th>y_step_7</th>\n",
       "      <th>y_step_8</th>\n",
       "      <th>y_step_9</th>\n",
       "      <th>y_step_10</th>\n",
       "      <th>...</th>\n",
       "      <th>y_step_356</th>\n",
       "      <th>y_step_357</th>\n",
       "      <th>y_step_358</th>\n",
       "      <th>y_step_359</th>\n",
       "      <th>y_step_360</th>\n",
       "      <th>y_step_361</th>\n",
       "      <th>y_step_362</th>\n",
       "      <th>y_step_363</th>\n",
       "      <th>y_step_364</th>\n",
       "      <th>y_step_365</th>\n",
       "    </tr>\n",
       "    <tr>\n",
       "      <th>date</th>\n",
       "      <th>station</th>\n",
       "      <th></th>\n",
       "      <th></th>\n",
       "      <th></th>\n",
       "      <th></th>\n",
       "      <th></th>\n",
       "      <th></th>\n",
       "      <th></th>\n",
       "      <th></th>\n",
       "      <th></th>\n",
       "      <th></th>\n",
       "      <th></th>\n",
       "      <th></th>\n",
       "      <th></th>\n",
       "      <th></th>\n",
       "      <th></th>\n",
       "      <th></th>\n",
       "      <th></th>\n",
       "      <th></th>\n",
       "      <th></th>\n",
       "      <th></th>\n",
       "      <th></th>\n",
       "    </tr>\n",
       "  </thead>\n",
       "  <tbody>\n",
       "  </tbody>\n",
       "</table>\n",
       "<p>0 rows × 365 columns</p>\n",
       "</div>"
      ],
      "text/plain": [
       "Empty DataFrame\n",
       "Columns: [y_step_1, y_step_2, y_step_3, y_step_4, y_step_5, y_step_6, y_step_7, y_step_8, y_step_9, y_step_10, y_step_11, y_step_12, y_step_13, y_step_14, y_step_15, y_step_16, y_step_17, y_step_18, y_step_19, y_step_20, y_step_21, y_step_22, y_step_23, y_step_24, y_step_25, y_step_26, y_step_27, y_step_28, y_step_29, y_step_30, y_step_31, y_step_32, y_step_33, y_step_34, y_step_35, y_step_36, y_step_37, y_step_38, y_step_39, y_step_40, y_step_41, y_step_42, y_step_43, y_step_44, y_step_45, y_step_46, y_step_47, y_step_48, y_step_49, y_step_50, y_step_51, y_step_52, y_step_53, y_step_54, y_step_55, y_step_56, y_step_57, y_step_58, y_step_59, y_step_60, y_step_61, y_step_62, y_step_63, y_step_64, y_step_65, y_step_66, y_step_67, y_step_68, y_step_69, y_step_70, y_step_71, y_step_72, y_step_73, y_step_74, y_step_75, y_step_76, y_step_77, y_step_78, y_step_79, y_step_80, y_step_81, y_step_82, y_step_83, y_step_84, y_step_85, y_step_86, y_step_87, y_step_88, y_step_89, y_step_90, y_step_91, y_step_92, y_step_93, y_step_94, y_step_95, y_step_96, y_step_97, y_step_98, y_step_99, y_step_100, ...]\n",
       "Index: []\n",
       "\n",
       "[0 rows x 365 columns]"
      ]
     },
     "metadata": {},
     "output_type": "display_data"
    }
   ],
   "source": [
    "display(y)"
   ]
  },
  {
   "cell_type": "code",
   "execution_count": 6,
   "metadata": {},
   "outputs": [
    {
     "ename": "ValueError",
     "evalue": "Found array with 0 sample(s) (shape=(0, 4)) while a minimum of 1 is required by RegressorChain.",
     "output_type": "error",
     "traceback": [
      "\u001b[1;31m---------------------------------------------------------------------------\u001b[0m",
      "\u001b[1;31mValueError\u001b[0m                                Traceback (most recent call last)",
      "\u001b[1;32m~\\AppData\\Local\\Temp\\ipykernel_18128\\2643861312.py\u001b[0m in \u001b[0;36m<cell line: 0>\u001b[1;34m()\u001b[0m\n\u001b[0;32m      4\u001b[0m \u001b[0mmodel\u001b[0m \u001b[1;33m=\u001b[0m \u001b[0mRegressorChain\u001b[0m\u001b[1;33m(\u001b[0m\u001b[0mXGBRegressor\u001b[0m\u001b[1;33m(\u001b[0m\u001b[1;33m)\u001b[0m\u001b[1;33m)\u001b[0m\u001b[1;33m\u001b[0m\u001b[1;33m\u001b[0m\u001b[0m\n\u001b[0;32m      5\u001b[0m \u001b[0mX\u001b[0m \u001b[1;33m=\u001b[0m \u001b[0mX\u001b[0m\u001b[1;33m.\u001b[0m\u001b[0mdrop\u001b[0m\u001b[1;33m(\u001b[0m\u001b[1;33m[\u001b[0m\u001b[1;34m'aff'\u001b[0m\u001b[1;33m]\u001b[0m\u001b[1;33m,\u001b[0m\u001b[0maxis\u001b[0m\u001b[1;33m=\u001b[0m\u001b[1;36m1\u001b[0m\u001b[1;33m)\u001b[0m\u001b[1;33m\u001b[0m\u001b[1;33m\u001b[0m\u001b[0m\n\u001b[1;32m----> 6\u001b[1;33m \u001b[0mmodel\u001b[0m\u001b[1;33m.\u001b[0m\u001b[0mfit\u001b[0m\u001b[1;33m(\u001b[0m\u001b[0mX\u001b[0m\u001b[1;33m,\u001b[0m\u001b[0my\u001b[0m\u001b[1;33m)\u001b[0m\u001b[1;33m\u001b[0m\u001b[1;33m\u001b[0m\u001b[0m\n\u001b[0m",
      "\u001b[1;32mc:\\Users\\Lenovo\\AppData\\Local\\Programs\\Python\\Python311\\Lib\\site-packages\\sklearn\\base.py\u001b[0m in \u001b[0;36mwrapper\u001b[1;34m(estimator, *args, **kwargs)\u001b[0m\n\u001b[0;32m   1150\u001b[0m                 )\n\u001b[0;32m   1151\u001b[0m             ):\n\u001b[1;32m-> 1152\u001b[1;33m                 \u001b[1;32mreturn\u001b[0m \u001b[0mfit_method\u001b[0m\u001b[1;33m(\u001b[0m\u001b[0mestimator\u001b[0m\u001b[1;33m,\u001b[0m \u001b[1;33m*\u001b[0m\u001b[0margs\u001b[0m\u001b[1;33m,\u001b[0m \u001b[1;33m**\u001b[0m\u001b[0mkwargs\u001b[0m\u001b[1;33m)\u001b[0m\u001b[1;33m\u001b[0m\u001b[1;33m\u001b[0m\u001b[0m\n\u001b[0m\u001b[0;32m   1153\u001b[0m \u001b[1;33m\u001b[0m\u001b[0m\n\u001b[0;32m   1154\u001b[0m         \u001b[1;32mreturn\u001b[0m \u001b[0mwrapper\u001b[0m\u001b[1;33m\u001b[0m\u001b[1;33m\u001b[0m\u001b[0m\n",
      "\u001b[1;32mc:\\Users\\Lenovo\\AppData\\Local\\Programs\\Python\\Python311\\Lib\\site-packages\\sklearn\\multioutput.py\u001b[0m in \u001b[0;36mfit\u001b[1;34m(self, X, Y, **fit_params)\u001b[0m\n\u001b[0;32m   1147\u001b[0m             \u001b[0mReturns\u001b[0m \u001b[0ma\u001b[0m \u001b[0mfitted\u001b[0m \u001b[0minstance\u001b[0m\u001b[1;33m.\u001b[0m\u001b[1;33m\u001b[0m\u001b[1;33m\u001b[0m\u001b[0m\n\u001b[0;32m   1148\u001b[0m         \"\"\"\n\u001b[1;32m-> 1149\u001b[1;33m         \u001b[0msuper\u001b[0m\u001b[1;33m(\u001b[0m\u001b[1;33m)\u001b[0m\u001b[1;33m.\u001b[0m\u001b[0mfit\u001b[0m\u001b[1;33m(\u001b[0m\u001b[0mX\u001b[0m\u001b[1;33m,\u001b[0m \u001b[0mY\u001b[0m\u001b[1;33m,\u001b[0m \u001b[1;33m**\u001b[0m\u001b[0mfit_params\u001b[0m\u001b[1;33m)\u001b[0m\u001b[1;33m\u001b[0m\u001b[1;33m\u001b[0m\u001b[0m\n\u001b[0m\u001b[0;32m   1150\u001b[0m         \u001b[1;32mreturn\u001b[0m \u001b[0mself\u001b[0m\u001b[1;33m\u001b[0m\u001b[1;33m\u001b[0m\u001b[0m\n\u001b[0;32m   1151\u001b[0m \u001b[1;33m\u001b[0m\u001b[0m\n",
      "\u001b[1;32mc:\\Users\\Lenovo\\AppData\\Local\\Programs\\Python\\Python311\\Lib\\site-packages\\sklearn\\multioutput.py\u001b[0m in \u001b[0;36mfit\u001b[1;34m(self, X, Y, **fit_params)\u001b[0m\n\u001b[0;32m    674\u001b[0m             \u001b[0mReturns\u001b[0m \u001b[0ma\u001b[0m \u001b[0mfitted\u001b[0m \u001b[0minstance\u001b[0m\u001b[1;33m.\u001b[0m\u001b[1;33m\u001b[0m\u001b[1;33m\u001b[0m\u001b[0m\n\u001b[0;32m    675\u001b[0m         \"\"\"\n\u001b[1;32m--> 676\u001b[1;33m         \u001b[0mX\u001b[0m\u001b[1;33m,\u001b[0m \u001b[0mY\u001b[0m \u001b[1;33m=\u001b[0m \u001b[0mself\u001b[0m\u001b[1;33m.\u001b[0m\u001b[0m_validate_data\u001b[0m\u001b[1;33m(\u001b[0m\u001b[0mX\u001b[0m\u001b[1;33m,\u001b[0m \u001b[0mY\u001b[0m\u001b[1;33m,\u001b[0m \u001b[0mmulti_output\u001b[0m\u001b[1;33m=\u001b[0m\u001b[1;32mTrue\u001b[0m\u001b[1;33m,\u001b[0m \u001b[0maccept_sparse\u001b[0m\u001b[1;33m=\u001b[0m\u001b[1;32mTrue\u001b[0m\u001b[1;33m)\u001b[0m\u001b[1;33m\u001b[0m\u001b[1;33m\u001b[0m\u001b[0m\n\u001b[0m\u001b[0;32m    677\u001b[0m \u001b[1;33m\u001b[0m\u001b[0m\n\u001b[0;32m    678\u001b[0m         \u001b[0mrandom_state\u001b[0m \u001b[1;33m=\u001b[0m \u001b[0mcheck_random_state\u001b[0m\u001b[1;33m(\u001b[0m\u001b[0mself\u001b[0m\u001b[1;33m.\u001b[0m\u001b[0mrandom_state\u001b[0m\u001b[1;33m)\u001b[0m\u001b[1;33m\u001b[0m\u001b[1;33m\u001b[0m\u001b[0m\n",
      "\u001b[1;32mc:\\Users\\Lenovo\\AppData\\Local\\Programs\\Python\\Python311\\Lib\\site-packages\\sklearn\\base.py\u001b[0m in \u001b[0;36m_validate_data\u001b[1;34m(self, X, y, reset, validate_separately, cast_to_ndarray, **check_params)\u001b[0m\n\u001b[0;32m    620\u001b[0m                 \u001b[0my\u001b[0m \u001b[1;33m=\u001b[0m \u001b[0mcheck_array\u001b[0m\u001b[1;33m(\u001b[0m\u001b[0my\u001b[0m\u001b[1;33m,\u001b[0m \u001b[0minput_name\u001b[0m\u001b[1;33m=\u001b[0m\u001b[1;34m\"y\"\u001b[0m\u001b[1;33m,\u001b[0m \u001b[1;33m**\u001b[0m\u001b[0mcheck_y_params\u001b[0m\u001b[1;33m)\u001b[0m\u001b[1;33m\u001b[0m\u001b[1;33m\u001b[0m\u001b[0m\n\u001b[0;32m    621\u001b[0m             \u001b[1;32melse\u001b[0m\u001b[1;33m:\u001b[0m\u001b[1;33m\u001b[0m\u001b[1;33m\u001b[0m\u001b[0m\n\u001b[1;32m--> 622\u001b[1;33m                 \u001b[0mX\u001b[0m\u001b[1;33m,\u001b[0m \u001b[0my\u001b[0m \u001b[1;33m=\u001b[0m \u001b[0mcheck_X_y\u001b[0m\u001b[1;33m(\u001b[0m\u001b[0mX\u001b[0m\u001b[1;33m,\u001b[0m \u001b[0my\u001b[0m\u001b[1;33m,\u001b[0m \u001b[1;33m**\u001b[0m\u001b[0mcheck_params\u001b[0m\u001b[1;33m)\u001b[0m\u001b[1;33m\u001b[0m\u001b[1;33m\u001b[0m\u001b[0m\n\u001b[0m\u001b[0;32m    623\u001b[0m             \u001b[0mout\u001b[0m \u001b[1;33m=\u001b[0m \u001b[0mX\u001b[0m\u001b[1;33m,\u001b[0m \u001b[0my\u001b[0m\u001b[1;33m\u001b[0m\u001b[1;33m\u001b[0m\u001b[0m\n\u001b[0;32m    624\u001b[0m \u001b[1;33m\u001b[0m\u001b[0m\n",
      "\u001b[1;32mc:\\Users\\Lenovo\\AppData\\Local\\Programs\\Python\\Python311\\Lib\\site-packages\\sklearn\\utils\\validation.py\u001b[0m in \u001b[0;36mcheck_X_y\u001b[1;34m(X, y, accept_sparse, accept_large_sparse, dtype, order, copy, force_all_finite, ensure_2d, allow_nd, multi_output, ensure_min_samples, ensure_min_features, y_numeric, estimator)\u001b[0m\n\u001b[0;32m   1144\u001b[0m         )\n\u001b[0;32m   1145\u001b[0m \u001b[1;33m\u001b[0m\u001b[0m\n\u001b[1;32m-> 1146\u001b[1;33m     X = check_array(\n\u001b[0m\u001b[0;32m   1147\u001b[0m         \u001b[0mX\u001b[0m\u001b[1;33m,\u001b[0m\u001b[1;33m\u001b[0m\u001b[1;33m\u001b[0m\u001b[0m\n\u001b[0;32m   1148\u001b[0m         \u001b[0maccept_sparse\u001b[0m\u001b[1;33m=\u001b[0m\u001b[0maccept_sparse\u001b[0m\u001b[1;33m,\u001b[0m\u001b[1;33m\u001b[0m\u001b[1;33m\u001b[0m\u001b[0m\n",
      "\u001b[1;32mc:\\Users\\Lenovo\\AppData\\Local\\Programs\\Python\\Python311\\Lib\\site-packages\\sklearn\\utils\\validation.py\u001b[0m in \u001b[0;36mcheck_array\u001b[1;34m(array, accept_sparse, accept_large_sparse, dtype, order, copy, force_all_finite, ensure_2d, allow_nd, ensure_min_samples, ensure_min_features, estimator, input_name)\u001b[0m\n\u001b[0;32m    965\u001b[0m         \u001b[0mn_samples\u001b[0m \u001b[1;33m=\u001b[0m \u001b[0m_num_samples\u001b[0m\u001b[1;33m(\u001b[0m\u001b[0marray\u001b[0m\u001b[1;33m)\u001b[0m\u001b[1;33m\u001b[0m\u001b[1;33m\u001b[0m\u001b[0m\n\u001b[0;32m    966\u001b[0m         \u001b[1;32mif\u001b[0m \u001b[0mn_samples\u001b[0m \u001b[1;33m<\u001b[0m \u001b[0mensure_min_samples\u001b[0m\u001b[1;33m:\u001b[0m\u001b[1;33m\u001b[0m\u001b[1;33m\u001b[0m\u001b[0m\n\u001b[1;32m--> 967\u001b[1;33m             raise ValueError(\n\u001b[0m\u001b[0;32m    968\u001b[0m                 \u001b[1;34m\"Found array with %d sample(s) (shape=%s) while a\"\u001b[0m\u001b[1;33m\u001b[0m\u001b[1;33m\u001b[0m\u001b[0m\n\u001b[0;32m    969\u001b[0m                 \u001b[1;34m\" minimum of %d is required%s.\"\u001b[0m\u001b[1;33m\u001b[0m\u001b[1;33m\u001b[0m\u001b[0m\n",
      "\u001b[1;31mValueError\u001b[0m: Found array with 0 sample(s) (shape=(0, 4)) while a minimum of 1 is required by RegressorChain."
     ]
    }
   ],
   "source": [
    "from sklearn.multioutput import RegressorChain\n",
    "\n",
    "\n",
    "model = RegressorChain(XGBRegressor())\n",
    "X = X.drop(['aff'],axis=1)\n",
    "model.fit(X,y)"
   ]
  },
  {
   "cell_type": "code",
   "execution_count": null,
   "metadata": {},
   "outputs": [
    {
     "name": "stdout",
     "output_type": "stream",
     "text": [
      "2716.7463361643045\n"
     ]
    }
   ],
   "source": [
    "from sklearn.metrics import mean_absolute_error\n",
    "y_pred = pd.DataFrame(\n",
    "    model.predict(X),\n",
    "    index=y.index,\n",
    "    columns=y.columns,\n",
    ").clip(0.0)\n",
    "\n",
    "train_rmse = mean_absolute_error(y, y_pred)\n",
    "print(train_rmse)\n"
   ]
  },
  {
   "cell_type": "markdown",
   "metadata": {},
   "source": [
    "Bon l'erreur est pas trop dégueu non plus, reste à faire prédire le modèle maintenant"
   ]
  },
  {
   "cell_type": "code",
   "execution_count": null,
   "metadata": {},
   "outputs": [
    {
     "name": "stderr",
     "output_type": "stream",
     "text": [
      "C:\\Users\\Lenovo\\AppData\\Local\\Temp\\ipykernel_13108\\492122665.py:5: FutureWarning: The default value of numeric_only in DataFrameGroupBy.mean is deprecated. In a future version, numeric_only will default to False. Either specify numeric_only or select only columns which should be valid for the function.\n",
      "  .mean()\n"
     ]
    }
   ],
   "source": [
    "X_test = pd.read_csv('x_test.csv')\n",
    "X_test.drop(['index'],axis=1)\n",
    "X_test = X_test.set_index(['station','date']).sort_index()\n",
    "X_test = (X_test.groupby(['date','station'])\n",
    "              .mean()\n",
    "              .unstack('station'))\n",
    "\n",
    "X_test = (X_test\n",
    "    .stack('station')  # wide to long\n",
    "    .reset_index('station')  # convert index to column\n",
    "    .assign(station=lambda x: le.fit_transform(x.station))  # label encode\n",
    ")\n",
    "\n",
    "y_predictions = pd.DataFrame(\n",
    "    model.predict(X_test),\n",
    "    index=y.index[:78652],\n",
    "    columns=y.columns,\n",
    ").clip(0.0)\n",
    "\n"
   ]
  },
  {
   "cell_type": "code",
   "execution_count": null,
   "metadata": {},
   "outputs": [
    {
     "data": {
      "text/html": [
       "<div>\n",
       "<style scoped>\n",
       "    .dataframe tbody tr th:only-of-type {\n",
       "        vertical-align: middle;\n",
       "    }\n",
       "\n",
       "    .dataframe tbody tr th {\n",
       "        vertical-align: top;\n",
       "    }\n",
       "\n",
       "    .dataframe thead th {\n",
       "        text-align: right;\n",
       "    }\n",
       "</style>\n",
       "<table border=\"1\" class=\"dataframe\">\n",
       "  <thead>\n",
       "    <tr style=\"text-align: right;\">\n",
       "      <th></th>\n",
       "      <th></th>\n",
       "      <th>0</th>\n",
       "    </tr>\n",
       "    <tr>\n",
       "      <th>date</th>\n",
       "      <th>station</th>\n",
       "      <th></th>\n",
       "    </tr>\n",
       "  </thead>\n",
       "  <tbody>\n",
       "    <tr>\n",
       "      <th rowspan=\"5\" valign=\"top\">2015-01-01</th>\n",
       "      <th>003</th>\n",
       "      <td>764.285828</td>\n",
       "    </tr>\n",
       "    <tr>\n",
       "      <th>033</th>\n",
       "      <td>764.285828</td>\n",
       "    </tr>\n",
       "    <tr>\n",
       "      <th>034</th>\n",
       "      <td>2463.522705</td>\n",
       "    </tr>\n",
       "    <tr>\n",
       "      <th>09U</th>\n",
       "      <td>2463.522705</td>\n",
       "    </tr>\n",
       "    <tr>\n",
       "      <th>0CM</th>\n",
       "      <td>80.652039</td>\n",
       "    </tr>\n",
       "    <tr>\n",
       "      <th>...</th>\n",
       "      <th>...</th>\n",
       "      <td>...</td>\n",
       "    </tr>\n",
       "    <tr>\n",
       "      <th rowspan=\"5\" valign=\"top\">2015-07-10</th>\n",
       "      <th>H2L</th>\n",
       "      <td>9354.747070</td>\n",
       "    </tr>\n",
       "    <tr>\n",
       "      <th>H2M</th>\n",
       "      <td>9354.747070</td>\n",
       "    </tr>\n",
       "    <tr>\n",
       "      <th>H5M</th>\n",
       "      <td>7506.278320</td>\n",
       "    </tr>\n",
       "    <tr>\n",
       "      <th>HID</th>\n",
       "      <td>7506.278320</td>\n",
       "    </tr>\n",
       "    <tr>\n",
       "      <th>HN1</th>\n",
       "      <td>7506.278320</td>\n",
       "    </tr>\n",
       "  </tbody>\n",
       "</table>\n",
       "<p>78652 rows × 1 columns</p>\n",
       "</div>"
      ],
      "text/plain": [
       "                              0\n",
       "date       station             \n",
       "2015-01-01 003       764.285828\n",
       "           033       764.285828\n",
       "           034      2463.522705\n",
       "           09U      2463.522705\n",
       "           0CM        80.652039\n",
       "...                         ...\n",
       "2015-07-10 H2L      9354.747070\n",
       "           H2M      9354.747070\n",
       "           H5M      7506.278320\n",
       "           HID      7506.278320\n",
       "           HN1      7506.278320\n",
       "\n",
       "[78652 rows x 1 columns]"
      ]
     },
     "metadata": {},
     "output_type": "display_data"
    }
   ],
   "source": [
    "display(y_predictions)"
   ]
  },
  {
   "cell_type": "code",
   "execution_count": null,
   "metadata": {},
   "outputs": [
    {
     "data": {
      "text/plain": [
       "[<matplotlib.lines.Line2D at 0x1dfd07aa090>]"
      ]
     },
     "execution_count": 13,
     "metadata": {},
     "output_type": "execute_result"
    },
    {
     "data": {
      "image/png": "[encoded data removed]",
      "text/plain": [
       "<Figure size 640x480 with 1 Axes>"
      ]
     },
     "metadata": {},
     "output_type": "display_data"
    }
   ],
   "source": [
    "y.set_index(\"station\",inplace=True)\n",
    "\n",
    "tab_station= y.loc['1J7']\n",
    "tab_station_2 = y.loc['M36']\n",
    "nb_station = []\n",
    "nb_station_2 = []\n",
    "for x in tab_station['y']:\n",
    "    nb_station.append(x)\n",
    "\n",
    "for x in tab_station_2['y']:\n",
    "    nb_station_2.append(x)\n",
    "A = np.arange(0,len(tab_station['y']))\n",
    "plt.plot(A[0:21],nb_station[60:60+21],nb_station_2[60:60+21])\n"
   ]
  },
  {
   "cell_type": "markdown",
   "metadata": {},
   "source": [
    "Il y a bien une \"pseudo-périodicité\" de 3 jours à peu près mais bon ça saute pas aux yeux"
   ]
  }
 ],
 "metadata": {
  "kernelspec": {
   "display_name": "Python 3",
   "language": "python",
   "name": "python3"
  },
  "language_info": {
   "codemirror_mode": {
    "name": "ipython",
    "version": 3
   },
   "file_extension": ".py",
   "mimetype": "text/x-python",
   "name": "python",
   "nbconvert_exporter": "python",
   "pygments_lexer": "ipython3",
   "version": "3.11.0"
  }
 },
 "nbformat": 4,
 "nbformat_minor": 2
}
